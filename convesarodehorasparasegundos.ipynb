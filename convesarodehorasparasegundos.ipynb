{
  "nbformat": 4,
  "nbformat_minor": 0,
  "metadata": {
    "colab": {
      "provenance": [],
      "authorship_tag": "ABX9TyNxKaUP6U9kxyga1mLhs96U",
      "include_colab_link": true
    },
    "kernelspec": {
      "name": "python3",
      "display_name": "Python 3"
    },
    "language_info": {
      "name": "python"
    }
  },
  "cells": [
    {
      "cell_type": "markdown",
      "metadata": {
        "id": "view-in-github",
        "colab_type": "text"
      },
      "source": [
        "<a href=\"https://colab.research.google.com/github/PriscilaSantanaG/Desafios-realizados/blob/main/convesarodehorasparasegundos.ipynb\" target=\"_parent\"><img src=\"https://colab.research.google.com/assets/colab-badge.svg\" alt=\"Open In Colab\"/></a>"
      ]
    },
    {
      "cell_type": "markdown",
      "source": [
        "Conversão de horas para segundos"
      ],
      "metadata": {
        "id": "4OZP-b-IZYwB"
      }
    },
    {
      "cell_type": "code",
      "execution_count": 4,
      "metadata": {
        "colab": {
          "base_uri": "https://localhost:8080/"
        },
        "id": "Ieoz_ynYZU1a",
        "outputId": "118396d9-5f7b-4545-b4f3-2f1f8604a632"
      },
      "outputs": [
        {
          "output_type": "stream",
          "name": "stdout",
          "text": [
            "Digite a hora no formato: hh:mm:ss\n",
            "14:52:33\n",
            "53553\n",
            "Conversão de minutos para segundos realizada com sucesso !\n"
          ]
        }
      ],
      "source": [
        "#conversão de horas para segundos\n",
        "print(\"Digite a hora no formato: hh:mm:ss\")\n",
        "horario = input()\n",
        "hora = float(horario[0:2])* int(3600)\n",
        "minuto = float(horario[3:5])* int(60)\n",
        "segundo = float(horario[6:8])\n",
        "C = float(hora + minuto + segundo)\n",
        "print(int(C))\n",
        "print(\"Conversão de minutos para segundos realizada com sucesso !\")"
      ]
    }
  ]
}