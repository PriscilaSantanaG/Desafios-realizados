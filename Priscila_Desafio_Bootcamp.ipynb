{
  "nbformat": 4,
  "nbformat_minor": 0,
  "metadata": {
    "colab": {
      "provenance": [],
      "authorship_tag": "ABX9TyPm1zTnbzrvSqSEuqBG7IKd",
      "include_colab_link": true
    },
    "kernelspec": {
      "name": "python3",
      "display_name": "Python 3"
    },
    "language_info": {
      "name": "python"
    }
  },
  "cells": [
    {
      "cell_type": "markdown",
      "metadata": {
        "id": "view-in-github",
        "colab_type": "text"
      },
      "source": [
        "<a href=\"https://colab.research.google.com/github/PriscilaSantanaG/Desafios-realizados/blob/main/Priscila_Desafio_Bootcamp.ipynb\" target=\"_parent\"><img src=\"https://colab.research.google.com/assets/colab-badge.svg\" alt=\"Open In Colab\"/></a>"
      ]
    },
    {
      "cell_type": "markdown",
      "source": [
        "Desafio 1: Escreva uma função em python que lê dois números inteiros (a,b) e gere como resultado as seguintes operações:adição, subtração, multiplicação e divisão. Execute a funçao na celula abaixo, deixando visivel exemplos de resultados."
      ],
      "metadata": {
        "id": "iG7jXJQuU_yv"
      }
    },
    {
      "cell_type": "markdown",
      "source": [
        "Priscila Santana Gomes"
      ],
      "metadata": {
        "id": "41_d9QzhnUqz"
      }
    },
    {
      "cell_type": "code",
      "execution_count": null,
      "metadata": {
        "colab": {
          "base_uri": "https://localhost:8080/"
        },
        "id": "3cPMqi3TTkfI",
        "outputId": "1b66b1b6-a59b-49b1-c637-bde842d98c04"
      },
      "outputs": [
        {
          "output_type": "stream",
          "name": "stdout",
          "text": [
            "3\n"
          ]
        }
      ],
      "source": [
        "### Desafio 1: Escreva uma função em python que lê dois números inteiros (a,b) e gere como resultado as seguintes operações:adição, subtração, multiplicação e divisão. Execute a funçao na celula abaixo, deixando visivel exemplos de resultados.\n",
        "#soma\n",
        "a = 1\n",
        "b = 2\n",
        "print(a + b)\n",
        "\n"
      ]
    },
    {
      "cell_type": "code",
      "source": [
        "#subtração:\n",
        "a = 10\n",
        "b = 5\n",
        "print( a - b)\n"
      ],
      "metadata": {
        "colab": {
          "base_uri": "https://localhost:8080/"
        },
        "id": "q6psibjiT4RF",
        "outputId": "2e7440e2-c0ff-489a-b03b-69d3ffae1f44"
      },
      "execution_count": null,
      "outputs": [
        {
          "output_type": "stream",
          "name": "stdout",
          "text": [
            "5\n"
          ]
        }
      ]
    },
    {
      "cell_type": "code",
      "source": [
        "#multiplicação\n",
        "a = 30\n",
        "b = 50\n",
        "print(a * b)\n"
      ],
      "metadata": {
        "colab": {
          "base_uri": "https://localhost:8080/"
        },
        "id": "n95si6dQUl24",
        "outputId": "e06c244a-e058-4230-e664-59d09bc19f90"
      },
      "execution_count": null,
      "outputs": [
        {
          "output_type": "stream",
          "name": "stdout",
          "text": [
            "1500\n"
          ]
        }
      ]
    },
    {
      "cell_type": "code",
      "source": [
        "#divisão\n",
        "a = 20\n",
        "b = 2\n",
        "print(a / b)\n",
        "\n"
      ],
      "metadata": {
        "colab": {
          "base_uri": "https://localhost:8080/"
        },
        "id": "hdBr9g1eUt-G",
        "outputId": "2adc27ac-83a2-4c56-a4f3-097c798b4ec9"
      },
      "execution_count": null,
      "outputs": [
        {
          "output_type": "stream",
          "name": "stdout",
          "text": [
            "10.0\n"
          ]
        }
      ]
    },
    {
      "cell_type": "markdown",
      "source": [
        "Desafio 2: Escreva uma função em python que leia como input uma idade e retorne a classificaçao da ideade do individuo da seguinte forma em:\n",
        "\n",
        "Criança – 0 a 12 anos\n",
        "Adolescente – 13 a 17 anos\n",
        "Adulto – acima de 18 anos\n",
        "Se a idade for um número negativo, mostrar a mensagem que a \"idade inválida\""
      ],
      "metadata": {
        "id": "fQ3yRMCLVGan"
      }
    },
    {
      "cell_type": "code",
      "source": [
        "age = 5 #input() #com o imput apresentou erro , sem o imput e digitando o número, rodou legal.\n",
        "\n",
        "if age <= 11:\n",
        "\n",
        "  print( \"Classificação de idade: Criança\" )\n",
        "if age <= 17:\n",
        "\n",
        "  print(\"Classificação de idade: Adolescente\" )\n",
        "if age > 18:\n",
        "\n",
        "  print( \"Classificação de idade: Adulto\" )\n"
      ],
      "metadata": {
        "colab": {
          "base_uri": "https://localhost:8080/"
        },
        "id": "HkT5HHQTVQDX",
        "outputId": "9d9be5b2-223f-443b-a81e-1be5c9fa3614"
      },
      "execution_count": null,
      "outputs": [
        {
          "output_type": "stream",
          "name": "stdout",
          "text": [
            "Classificação de idade: Criança\n",
            "Classificação de idade: Adolescente\n"
          ]
        }
      ]
    },
    {
      "cell_type": "markdown",
      "source": [
        "Desafio 3\n",
        "Crie uma função em python que receba como input um determinado horário em horas e retorne a conversao deste horário para segundos\n",
        "\n"
      ],
      "metadata": {
        "id": "uATy2T6UZTg-"
      }
    },
    {
      "cell_type": "code",
      "source": [
        "#conversão de horas para segundos\n",
        "\n",
        "horario = input()\n",
        "hora = float(horario[0:2])* int(3600)\n",
        "minuto = float(horario[3:5])* int(60)\n",
        "segundo = float(horario[6:8])\n",
        "C = float(hora + minuto + segundo)\n",
        "print(int(C))\n",
        "print(\"Conversão de minutos para segundos realizada com sucesso !\")"
      ],
      "metadata": {
        "colab": {
          "base_uri": "https://localhost:8080/"
        },
        "id": "wbR9IlDmVT0d",
        "outputId": "1bb5099e-a270-4acd-c3c9-1a75d37e86ae"
      },
      "execution_count": null,
      "outputs": [
        {
          "output_type": "stream",
          "name": "stdout",
          "text": [
            "15:17:30\n",
            "55050\n",
            "Conversão de minutos para segundos realizada com sucesso !\n"
          ]
        }
      ]
    },
    {
      "cell_type": "markdown",
      "source": [
        "Desafio 4\n",
        "Crie uma função em python que calcule a média artimética de uma aluna que cursou a disciplina de Programação I. A funcao deve receber como input as notas M1, M2 e M3 e calcular a média. Após a média calculada, a funcao deve anunciar se a aluna foi aprovado, reprovado ou pegou exame de acordo conm a seguinte classificacao:\n",
        "\n",
        "Se a média estiver entre 0.0 e 4.0, o aluno está reprovado\n",
        "Se a média estiver entre 4.1 e 6.0, o aluno pegou exame\n",
        "Se a média for maior do que 6.0, o aluno está aprovado\n",
        "Se o aluno pegou exame, deve ser lida a nota do exame. Se a nota do exame for maior do que 6.0, está aprovado, senão; está reprovado"
      ],
      "metadata": {
        "id": "tAGHHWxRbMXW"
      }
    },
    {
      "cell_type": "code",
      "source": [
        "nota1 = list(map(float, input('Digite a nota 1: ').split()))\n",
        "nota2 = list(map(float, input('Digite a nota 2: ').split()))\n",
        "nota3 = float(input('Digite a nota 3: '))\n",
        "\n",
        "media_nota1 = (sum(nota1) / len(nota1))\n",
        "media_nota2 = (sum(nota2) / len(nota2))\n",
        "media_nota3 = (sum(nota2) / len(nota2))\n",
        "media_final = ((media_nota1 + media_nota2 + media_nota3) / 3)\n",
        "\n",
        "print(f'\\033[32mA Média Final é: {media_final:.1f}')\n",
        "\n",
        "if media_final >= 4.1:\n",
        "    print('Pagou o exame!')\n",
        "else:\n",
        "    print('Reprovado :( ')\n",
        "\n",
        "if media_final >= 6.1:\n",
        "   print('Aprovado, parabéns!')\n",
        "\n",
        "\n",
        "\n",
        "  "
      ],
      "metadata": {
        "colab": {
          "base_uri": "https://localhost:8080/"
        },
        "id": "1DfeV896b0OI",
        "outputId": "5edc743a-a294-4b9b-e3c1-63948c759c48"
      },
      "execution_count": null,
      "outputs": [
        {
          "output_type": "stream",
          "name": "stdout",
          "text": [
            "Digite a nota 1: 10\n",
            "Digite a nota 2: 10\n",
            "Digite a nota 3: 10\n",
            "\u001b[32mA Média Final é: 10.0\n",
            "Pagou o exame!\n",
            "Aprovado, parabéns!\n"
          ]
        }
      ]
    },
    {
      "cell_type": "markdown",
      "source": [
        "**Desafio 6**\n",
        "Escreva uma função em python que leia uma temperatura em graus Celsius e retorne a conversao dela em graus Fahrenheit.\n",
        "\n",
        "A fórmula de conversão é F = (9 * C + 160) / 5, na qual F é a temperatura em Fahrenheit e C é a temperatura em graus Celsius"
      ],
      "metadata": {
        "id": "dLMI9hBSiYos"
      }
    },
    {
      "cell_type": "code",
      "source": [
        "def C_para_F(C):\n",
        "    F = (C*9/5) + 32\n",
        "    return F\n",
        "\n",
        "C=int( input('Conversão para Graus Celsius. \\n Digite o Grau Celsius ') )\n",
        "print('Convertido: ', C_para_F(C),' Graus Farenheit\\n')\n",
        "      "
      ],
      "metadata": {
        "colab": {
          "base_uri": "https://localhost:8080/"
        },
        "id": "R9wi1dSxij8F",
        "outputId": "adb68274-70d9-4906-ae60-aaeb8cc922e8"
      },
      "execution_count": null,
      "outputs": [
        {
          "output_type": "stream",
          "name": "stdout",
          "text": [
            "Conversão para Graus Celsius. \n",
            " Digite o Grau Celsius 10\n",
            "Convertido:  50.0  Graus Farenheit\n",
            "\n"
          ]
        }
      ]
    },
    {
      "cell_type": "code",
      "source": [],
      "metadata": {
        "id": "eu7n87XfjIxs"
      },
      "execution_count": null,
      "outputs": []
    }
  ]
}