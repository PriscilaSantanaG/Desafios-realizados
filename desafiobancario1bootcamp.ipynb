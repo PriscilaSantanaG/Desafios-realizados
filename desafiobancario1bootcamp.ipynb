{
  "nbformat": 4,
  "nbformat_minor": 0,
  "metadata": {
    "colab": {
      "provenance": [],
      "authorship_tag": "ABX9TyPUUW1S9gFWIP8tT76YafZV",
      "include_colab_link": true
    },
    "kernelspec": {
      "name": "python3",
      "display_name": "Python 3"
    },
    "language_info": {
      "name": "python"
    }
  },
  "cells": [
    {
      "cell_type": "markdown",
      "metadata": {
        "id": "view-in-github",
        "colab_type": "text"
      },
      "source": [
        "<a href=\"https://colab.research.google.com/github/PriscilaSantanaG/Desafios-realizados/blob/main/desafiobancario1bootcamp.ipynb\" target=\"_parent\"><img src=\"https://colab.research.google.com/assets/colab-badge.svg\" alt=\"Open In Colab\"/></a>"
      ]
    },
    {
      "cell_type": "markdown",
      "source": [
        "Desafio Python para mostrar o saldo bancário atualizado após movimentação na conta"
      ],
      "metadata": {
        "id": "nXnhh-ExxIGM"
      }
    },
    {
      "cell_type": "code",
      "source": [
        "print(\"Digite o valor do depósito:\")\n",
        "saldo_atual = 5000\n",
        "valor_deposito = float(input())\n",
        "print(\"Valor da retirada:\")\n",
        "valor_retirada = float(input())\n",
        "\n",
        "#TODO: Calcular o saldo atualizado de acordo com a descrição deste desafio.\n",
        "\n",
        "#TODO: Imprimir o a saída de conforme a tabela de exemplos (uma casa decimal).\n",
        "\n",
        "saldo_atualizado = float(saldo_atual + valor_deposito - valor_retirada)\n",
        "\n",
        "print(\"Saldo atual: %1.f\" %saldo_atual)\n",
        "\n",
        "print(\"Saldo atualizado na conta: %.1f\" %saldo_atualizado)"
      ],
      "metadata": {
        "colab": {
          "base_uri": "https://localhost:8080/"
        },
        "id": "zCvcATKfxIoD",
        "outputId": "838f8160-6daf-43f5-f2a3-e227b77fd30f"
      },
      "execution_count": null,
      "outputs": [
        {
          "output_type": "stream",
          "name": "stdout",
          "text": [
            "Digite o valor do depósito:\n",
            "4000\n",
            "Valor da retirada:\n",
            "100\n",
            "Saldo atual: 5000\n",
            "Saldo atualizado na conta: 8900.0\n"
          ]
        }
      ]
    },
    {
      "cell_type": "markdown",
      "source": [
        "Desafio 2: ordenando lista de arquivos"
      ],
      "metadata": {
        "id": "77Tn6fvc7F6D"
      }
    },
    {
      "cell_type": "markdown",
      "source": [],
      "metadata": {
        "id": "snEXclgGCAOk"
      }
    },
    {
      "cell_type": "code",
      "source": [
        "#lista\n",
        "print(\"insira a quantidade de ativos:\"'\\n')\n",
        "ativos = []\n",
        "\n",
        "# Entrada da quantidade de ativos\n",
        "quantidadeAtivos = int(input())\n",
        "print(\"insira o nome dos ativos:\"'\\n')\n",
        "# Entrada dos códigos dos ativos\n",
        "for _ in range(quantidadeAtivos):\n",
        "    codigoAtivo = input()\n",
        "    ativos.append(codigoAtivo)\n",
        "\n",
        "# TODO: Ordenar os ativos em ordem alfabética.\n",
        "print('\\n'\"Ativos por ordenação:\"'\\n')\n",
        "ativos.sort()\n",
        "\n",
        "# TODO: Imprimir a lista de ativos ordenada, conforme a tabela de exemplos.\n",
        "print(*ativos, sep = '\\n')"
      ],
      "metadata": {
        "colab": {
          "base_uri": "https://localhost:8080/"
        },
        "id": "WZ2cGkb77If5",
        "outputId": "35ad3821-ab62-48b4-f307-4eed47925718"
      },
      "execution_count": null,
      "outputs": [
        {
          "output_type": "stream",
          "name": "stdout",
          "text": [
            "insira a quantidade de ativos:\n",
            "\n",
            "2\n",
            "insira o nome dos ativos:\n",
            "\n",
            "cdb\n",
            "imobiliario\n",
            "\n",
            "Ativos por ordenação:\n",
            "\n",
            "cdb\n",
            "imobiliario\n"
          ]
        }
      ]
    },
    {
      "cell_type": "markdown",
      "source": [
        "Desafio 3 Resultado de saque\n",
        "\n",
        "\n"
      ],
      "metadata": {
        "id": "nDhqTJM6CBUD"
      }
    },
    {
      "cell_type": "code",
      "source": [
        "# Entrada de dados\n",
        "saldo_total = int(1000)\n",
        "print(\"Seu saldo total é: %d\"%saldo_total)\n",
        "print('\\n')\n",
        "print(\"digite o valor do Saque\")\n",
        "valor_saque = int(input())\n",
        "\n",
        "# TODO: Criar as condições necessárias para impressão da saída, vide tabela de exemplos.\n",
        "if valor_saque <= saldo_total:\n",
        "  #saldo_atualizado = valor_saque - saldo_total\n",
        " atualizado = int(saldo_total-valor_saque)\n",
        " print(\"Saque realizado com sucesso. Novo saldo: %d\" %atualizado)\n",
        "else:\n",
        "   print(\"Saldo insuficiente. Saque nao realizado!\")"
      ],
      "metadata": {
        "colab": {
          "base_uri": "https://localhost:8080/"
        },
        "id": "o0DVOlCqCY89",
        "outputId": "c40418c4-6727-4153-b0de-5bc7a97c8d10"
      },
      "execution_count": null,
      "outputs": [
        {
          "output_type": "stream",
          "name": "stdout",
          "text": [
            "Seu saldo total é: 1000\n",
            "\n",
            "\n",
            "digite o valor do Saque\n",
            "10\n",
            "Saque realizado com sucesso. Novo saldo: 990\n"
          ]
        }
      ]
    },
    {
      "cell_type": "markdown",
      "source": [
        "Desafio 5 juros compostos"
      ],
      "metadata": {
        "id": "OXGZaoxYWcng"
      }
    },
    {
      "cell_type": "code",
      "source": [
        "print(\"Digite o valor inicial:\")\n",
        "valor_inicial = float(input())\n",
        "print(\"Digite os juros:\")\n",
        "taxa_juros = float(input())\n",
        "print(\"Digite o valor período do investimento:\")\n",
        "periodo = int(input())\n",
        "\n",
        "\n",
        "\n",
        "#TODO: Iterar, baseado no período em anos, para calculo do valorFinal com os juros.\n",
        "\n",
        "valor_percentual = float(valor_inicial * ( 1 + taxa_juros/100) ** periodo)\n",
        "\n",
        "\n",
        "print(\"Valor final do investimento: R$ %.2f\" %valor_percentual)"
      ],
      "metadata": {
        "colab": {
          "base_uri": "https://localhost:8080/"
        },
        "id": "2LJykexNWhVv",
        "outputId": "bc862991-68ac-4053-8aec-70245ff381ff"
      },
      "execution_count": 2,
      "outputs": [
        {
          "output_type": "stream",
          "name": "stdout",
          "text": [
            "Digite o valor inicial:\n",
            "100\n",
            "Digite os juros:\n",
            "10\n",
            "Digite o valor período do investimento:\n",
            "5\n",
            "Valor final do investimento: R$ 161.05\n"
          ]
        }
      ]
    },
    {
      "cell_type": "markdown",
      "source": [
        "Desafio do saque invalido 6"
      ],
      "metadata": {
        "id": "Icy7hgbAciVG"
      }
    },
    {
      "cell_type": "code",
      "source": [
        "print(\"Digite o valor para depósito desejado:\")\n",
        "valor = float(input())\n",
        "\n",
        "\n",
        "if valor > 0:\n",
        "\n",
        "  print(\"Deposito realizado com sucesso! \\n Saldo atual: R$ %.2f\" %valor )\n",
        "elif valor < 0:\n",
        "  print(\"Valor invalido! Digite um valor maior que zero.\" )\n",
        "else:\n",
        "  print(\"Encerrando o programa...\" )\n",
        "print(\"Digite seu novo depósito:\")\n",
        "novodep=float(input())\n",
        "saldo_atualizado = float(valor + novodep)\n",
        "print(\"Saldo atualizado com novo depósito: R$ %.2f\"%saldo_atualizado)\n",
        "\n"
      ],
      "metadata": {
        "colab": {
          "base_uri": "https://localhost:8080/"
        },
        "id": "TlaSF1S5Wiyg",
        "outputId": "bb7e6747-06f4-4373-fc4b-16f10f945d37"
      },
      "execution_count": 6,
      "outputs": [
        {
          "output_type": "stream",
          "name": "stdout",
          "text": [
            "Digite o valor para depósito desejado:\n",
            "100\n",
            "Deposito realizado com sucesso! \n",
            " Saldo atual: R$ 100.00\n",
            "Digite seu novo depósito:\n",
            "25\n",
            "Saldo atualizado com novo depósito: R$ 125.00\n"
          ]
        }
      ]
    }
  ]
}