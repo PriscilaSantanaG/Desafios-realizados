{
  "nbformat": 4,
  "nbformat_minor": 0,
  "metadata": {
    "colab": {
      "provenance": [],
      "authorship_tag": "ABX9TyNLCD1dCAZQrEdZqe3YBb2j",
      "include_colab_link": true
    },
    "kernelspec": {
      "name": "python3",
      "display_name": "Python 3"
    },
    "language_info": {
      "name": "python"
    }
  },
  "cells": [
    {
      "cell_type": "markdown",
      "metadata": {
        "id": "view-in-github",
        "colab_type": "text"
      },
      "source": [
        "<a href=\"https://colab.research.google.com/github/PriscilaSantanaG/Desafios-realizados/blob/main/desafiobancario1bootcamp.ipynb\" target=\"_parent\"><img src=\"https://colab.research.google.com/assets/colab-badge.svg\" alt=\"Open In Colab\"/></a>"
      ]
    },
    {
      "cell_type": "markdown",
      "source": [
        "Desafio Python para mostrar o saldo bancário atualizado após movimentação na conta"
      ],
      "metadata": {
        "id": "nXnhh-ExxIGM"
      }
    },
    {
      "cell_type": "code",
      "source": [
        "print(\"Digite o valor do depósito:\")\n",
        "saldo_atual = 5000\n",
        "valor_deposito = float(input())\n",
        "print(\"Valor da retirada:\")\n",
        "valor_retirada = float(input())\n",
        "\n",
        "#TODO: Calcular o saldo atualizado de acordo com a descrição deste desafio.\n",
        "\n",
        "#TODO: Imprimir o a saída de conforme a tabela de exemplos (uma casa decimal).\n",
        "\n",
        "saldo_atualizado = float(saldo_atual + valor_deposito - valor_retirada)\n",
        "\n",
        "print(\"Saldo atual: %1.f\" %saldo_atual)\n",
        "\n",
        "print(\"Saldo atualizado na conta: %.1f\" %saldo_atualizado)"
      ],
      "metadata": {
        "colab": {
          "base_uri": "https://localhost:8080/"
        },
        "id": "zCvcATKfxIoD",
        "outputId": "838f8160-6daf-43f5-f2a3-e227b77fd30f"
      },
      "execution_count": 11,
      "outputs": [
        {
          "output_type": "stream",
          "name": "stdout",
          "text": [
            "Digite o valor do depósito:\n",
            "4000\n",
            "Valor da retirada:\n",
            "100\n",
            "Saldo atual: 5000\n",
            "Saldo atualizado na conta: 8900.0\n"
          ]
        }
      ]
    },
    {
      "cell_type": "markdown",
      "source": [
        "Desafio 2: ordenando lista de arquivos"
      ],
      "metadata": {
        "id": "77Tn6fvc7F6D"
      }
    },
    {
      "cell_type": "code",
      "source": [
        "#lista\n",
        "print(\"insira a quantidade de ativos:\"'\\n')\n",
        "ativos = []\n",
        "\n",
        "# Entrada da quantidade de ativos\n",
        "quantidadeAtivos = int(input())\n",
        "print(\"insira o nome dos ativos:\"'\\n')\n",
        "# Entrada dos códigos dos ativos\n",
        "for _ in range(quantidadeAtivos):\n",
        "    codigoAtivo = input()\n",
        "    ativos.append(codigoAtivo)\n",
        "\n",
        "# TODO: Ordenar os ativos em ordem alfabética.\n",
        "print('\\n'\"Ativos por ordenação:\"'\\n')\n",
        "ativos.sort()\n",
        "\n",
        "# TODO: Imprimir a lista de ativos ordenada, conforme a tabela de exemplos.\n",
        "print(*ativos, sep = '\\n')"
      ],
      "metadata": {
        "colab": {
          "base_uri": "https://localhost:8080/"
        },
        "id": "WZ2cGkb77If5",
        "outputId": "35ad3821-ab62-48b4-f307-4eed47925718"
      },
      "execution_count": 17,
      "outputs": [
        {
          "output_type": "stream",
          "name": "stdout",
          "text": [
            "insira a quantidade de ativos:\n",
            "\n",
            "2\n",
            "insira o nome dos ativos:\n",
            "\n",
            "cdb\n",
            "imobiliario\n",
            "\n",
            "Ativos por ordenação:\n",
            "\n",
            "cdb\n",
            "imobiliario\n"
          ]
        }
      ]
    }
  ]
}