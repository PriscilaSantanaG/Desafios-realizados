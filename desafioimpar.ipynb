{
  "nbformat": 4,
  "nbformat_minor": 0,
  "metadata": {
    "colab": {
      "provenance": [],
      "authorship_tag": "ABX9TyOLkKeBM4jggdXnFqlQOLwn",
      "include_colab_link": true
    },
    "kernelspec": {
      "name": "python3",
      "display_name": "Python 3"
    },
    "language_info": {
      "name": "python"
    }
  },
  "cells": [
    {
      "cell_type": "markdown",
      "metadata": {
        "id": "view-in-github",
        "colab_type": "text"
      },
      "source": [
        "<a href=\"https://colab.research.google.com/github/PriscilaSantanaG/Desafios-realizados/blob/main/desafioimpar.ipynb\" target=\"_parent\"><img src=\"https://colab.research.google.com/assets/colab-badge.svg\" alt=\"Open In Colab\"/></a>"
      ]
    },
    {
      "cell_type": "markdown",
      "source": [
        "Desafio: Imprimir todos os números impares entre 1 e 250. Salvar o resultado em um arquivo chamado: resultado.txt"
      ],
      "metadata": {
        "id": "eCJZFMFNcIX8"
      }
    },
    {
      "cell_type": "code",
      "execution_count": null,
      "metadata": {
        "id": "33QIUjPfcFEQ"
      },
      "outputs": [],
      "source": [
        "#o arquivo resultado.txt foi criado na máquina para que a execução possa ser bem sucedida.\n",
        "arquivo = open('resultado.txt', 'w') # Abre para gravação\n",
        " \n",
        "for i in range(250): #conta i até 250\n",
        "\n",
        "    if(i%2!=0): #verifica se o número é impar conforme o resto da divisão por 2 sendo != 0\n",
        "       print(i) # retorna o valor da divisão\n",
        "       arquivo.write(str(i) + \"\\n\") # Grava texto e concatena\n",
        "arquivo.close() #fecha o arquivo"
      ]
    }
  ]
}