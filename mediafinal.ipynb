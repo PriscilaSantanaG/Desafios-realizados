{
  "nbformat": 4,
  "nbformat_minor": 0,
  "metadata": {
    "colab": {
      "provenance": [],
      "authorship_tag": "ABX9TyPSC6VwL82W+1DTlTOh1qwr",
      "include_colab_link": true
    },
    "kernelspec": {
      "name": "python3",
      "display_name": "Python 3"
    },
    "language_info": {
      "name": "python"
    }
  },
  "cells": [
    {
      "cell_type": "markdown",
      "metadata": {
        "id": "view-in-github",
        "colab_type": "text"
      },
      "source": [
        "<a href=\"https://colab.research.google.com/github/PriscilaSantanaG/Desafios-realizados/blob/main/mediafinal.ipynb\" target=\"_parent\"><img src=\"https://colab.research.google.com/assets/colab-badge.svg\" alt=\"Open In Colab\"/></a>"
      ]
    },
    {
      "cell_type": "markdown",
      "source": [
        "Calculando média final"
      ],
      "metadata": {
        "id": "JggV0YWHaQCc"
      }
    },
    {
      "cell_type": "code",
      "execution_count": 3,
      "metadata": {
        "colab": {
          "base_uri": "https://localhost:8080/"
        },
        "id": "x2XaJ4wraJu_",
        "outputId": "90576966-b1ed-4e75-cf15-be7e757063f1"
      },
      "outputs": [
        {
          "output_type": "stream",
          "name": "stdout",
          "text": [
            "Digite a nota 1: 5.1\n",
            "Digite a nota 2: 2.4\n",
            "Digite a nota 3: 10\n",
            "\u001b[32mA Média Final é: 3.3\n",
            "Reprovado :( \n"
          ]
        },
        {
          "output_type": "execute_result",
          "data": {
            "text/plain": [
              "6"
            ]
          },
          "metadata": {},
          "execution_count": 3
        }
      ],
      "source": [
        "nota1 = list(map(float, input('Digite a nota 1: ').split()))\n",
        "nota2 = list(map(float, input('Digite a nota 2: ').split()))\n",
        "nota3 = float(input('Digite a nota 3: '))\n",
        "\n",
        "media_nota1 = (sum(nota1) / len(nota1))\n",
        "media_nota2 = (sum(nota2) / len(nota2))\n",
        "media_nota3 = (sum(nota2) / len(nota2))\n",
        "media_final = ((media_nota1 + media_nota2 + media_nota3) / 3)\n",
        "\n",
        "print(f'\\033[32mA Média Final é: {media_final:.1f}')\n",
        "\n",
        "if media_final >= 4.1:\n",
        "    print('Pagou o exame!')\n",
        "else:\n",
        "    print('Reprovado :( ')\n",
        "\n",
        "if media_final >= 6.1:\n",
        "   print('Aprovado, parabéns!')\n",
        "6"
      ]
    }
  ]
}