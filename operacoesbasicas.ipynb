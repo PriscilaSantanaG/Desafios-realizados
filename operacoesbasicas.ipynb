{
  "nbformat": 4,
  "nbformat_minor": 0,
  "metadata": {
    "colab": {
      "provenance": [],
      "authorship_tag": "ABX9TyMHcgZBT+YcBmaKne7mOIAd",
      "include_colab_link": true
    },
    "kernelspec": {
      "name": "python3",
      "display_name": "Python 3"
    },
    "language_info": {
      "name": "python"
    }
  },
  "cells": [
    {
      "cell_type": "markdown",
      "metadata": {
        "id": "view-in-github",
        "colab_type": "text"
      },
      "source": [
        "<a href=\"https://colab.research.google.com/github/PriscilaSantanaG/Desafios-realizados/blob/main/operacoesbasicas.ipynb\" target=\"_parent\"><img src=\"https://colab.research.google.com/assets/colab-badge.svg\" alt=\"Open In Colab\"/></a>"
      ]
    },
    {
      "cell_type": "markdown",
      "source": [
        "Realizando as quatro operações:"
      ],
      "metadata": {
        "id": "7NGwqnCvYc4x"
      }
    },
    {
      "cell_type": "code",
      "execution_count": null,
      "metadata": {
        "id": "S2Ezu3ljYQtM"
      },
      "outputs": [],
      "source": [
        "#soma\n",
        "\n",
        "a = 14\n",
        "b = 2\n",
        "print(a + b)"
      ]
    },
    {
      "cell_type": "code",
      "source": [
        "#subtração:\n",
        "a = 10\n",
        "b = 5\n",
        "print( a - b)"
      ],
      "metadata": {
        "id": "b7YCSYn-YoO1"
      },
      "execution_count": null,
      "outputs": []
    },
    {
      "cell_type": "code",
      "source": [
        "#multiplicação\n",
        "a = 30\n",
        "b = 50\n",
        "print(a * b)"
      ],
      "metadata": {
        "id": "tYhu3CdNYzw5"
      },
      "execution_count": null,
      "outputs": []
    },
    {
      "cell_type": "code",
      "source": [
        "#divisão\n",
        "a = 20\n",
        "b = 2\n",
        "print(a / b)"
      ],
      "metadata": {
        "id": "n2H_fK-7Y2yI"
      },
      "execution_count": null,
      "outputs": []
    }
  ]
}